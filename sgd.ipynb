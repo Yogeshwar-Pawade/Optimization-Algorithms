{
  "nbformat": 4,
  "nbformat_minor": 0,
  "metadata": {
    "colab": {
      "name": "sgd.ipynb",
      "provenance": []
    },
    "kernelspec": {
      "name": "python3",
      "display_name": "Python 3"
    },
    "language_info": {
      "name": "python"
    }
  },
  "cells": [
    {
      "cell_type": "code",
      "metadata": {
        "id": "9McLVRH56OSp"
      },
      "source": [
        "import numpy as np\n",
        "import copy\n",
        "from numpy.random import permutation"
      ],
      "execution_count": null,
      "outputs": []
    },
    {
      "cell_type": "code",
      "metadata": {
        "id": "xQM7d05X660Z"
      },
      "source": [
        "class Line():\n",
        "\n",
        "    def __init__(self):\n",
        "        self.weights = [np.random.uniform(0,1,1) for _ in range(2)]\n",
        "        self.derivative_funcs = [self.dx_w0, self.dx_w1]\n",
        "        \n",
        "    def evaluate(self,x):\n",
        "        return self.weights[0] + self.weights[1]*x\n",
        "\n",
        "    def derivate(self, x, y):\n",
        "       \n",
        "        partial_derivatives = []\n",
        "        \n",
        "        yhat = self.evaluate(x)\n",
        "        partial_derivatives.append(self.dx_w0(x, y, yhat))\n",
        "        partial_derivatives.append(self.dx_w1(x, y, yhat))\n",
        "        \n",
        "        return partial_derivatives\n",
        "    \n",
        "    def dx_w0(self, x, y, yhat):\n",
        "      \n",
        "        return 2*(yhat - y)\n",
        "    \n",
        "    def dx_w1(self, x, y, yhat):\n",
        "        \n",
        "        return 2*x*(yhat - y)\n",
        "\n",
        "    def __str__(self):\n",
        "        return f\"y = {self.weights[0]} + {self.weights[1]}*x\""
      ],
      "execution_count": null,
      "outputs": []
    },
    {
      "cell_type": "code",
      "metadata": {
        "id": "mzdu16t87Be_"
      },
      "source": [
        "def stochastic_sample(xs, ys):\n",
        "   \n",
        "    perm = permutation(len(xs))\n",
        "    x = xs[perm[0]]\n",
        "    y = ys[perm[0]]\n",
        "\n",
        "    return x, y\n",
        "    \n",
        "    \n",
        "def gradient(dx, evaluate, xs, ys):\n",
        "    \n",
        "    N = len(ys)\n",
        "    \n",
        "    total = 0\n",
        "    for x,y in zip(xs,ys):\n",
        "        yhat = evaluate(x)\n",
        "        total = total + dx(x, y, yhat)\n",
        "    \n",
        "    gradient = total/N\n",
        "    return gradient"
      ],
      "execution_count": null,
      "outputs": []
    },
    {
      "cell_type": "code",
      "metadata": {
        "id": "fr0-z-TU7h3H"
      },
      "source": [
        "def sgd(model, xs, ys, learning_rate = 0.01, max_num_iteration = 1000):\n",
        "um_iteration: the number of iteration before we stop updating   \n",
        "    \n",
        "    for i in range(max_num_iteration):\n",
        "        \n",
        "        # Select a random x and y\n",
        "        x, y = stochastic_sample(xs, ys)\n",
        "        \n",
        "        # Updating the model parameters\n",
        "        model.weights = [weight - learning_rate*derivative for weight, derivative in zip(model.weights, model.derivate(x,y))]        \n",
        "    \n",
        "        if i % 100 == 0:\n",
        "            print(f\"Iteration {i}\")\n",
        "            print(model)"
      ],
      "execution_count": null,
      "outputs": []
    },
    {
      "cell_type": "code",
      "metadata": {
        "colab": {
          "base_uri": "https://localhost:8080/"
        },
        "id": "MJ3128Vc7jw8",
        "outputId": "26596008-d18e-41ee-8407-3d25da3a276c"
      },
      "source": [
        "xs = [1,2,3,4,5,6,7]\n",
        "ys = [1,2,3,4,5,6,7]\n",
        "\n",
        "print(\"Target: intercept = 0 and slope = 1\")\n",
        "\n",
        "model = Line()\n",
        "print(\"sgd\")\n",
        "sgd(model, xs, ys)\n",
        "print(model)"
      ],
      "execution_count": null,
      "outputs": [
        {
          "output_type": "stream",
          "name": "stdout",
          "text": [
            "Target: intercept = 0 and slope = 1\n",
            "sgd\n",
            "Iteration 0\n",
            "y = [0.15764651] + [0.91084028]*x\n",
            "Iteration 100\n",
            "y = [0.11407496] + [0.9738214]*x\n",
            "Iteration 200\n",
            "y = [0.07908574] + [0.98401102]*x\n",
            "Iteration 300\n",
            "y = [0.05135782] + [0.99266317]*x\n",
            "Iteration 400\n",
            "y = [0.03437761] + [0.99215296]*x\n",
            "Iteration 500\n",
            "y = [0.02278333] + [0.9928085]*x\n",
            "Iteration 600\n",
            "y = [0.01545034] + [0.99679497]*x\n",
            "Iteration 700\n",
            "y = [0.01092959] + [0.99761293]*x\n",
            "Iteration 800\n",
            "y = [0.00745435] + [0.99867026]*x\n",
            "Iteration 900\n",
            "y = [0.0050451] + [0.99927927]*x\n",
            "y = [0.00318467] + [0.99930674]*x\n"
          ]
        }
      ]
    },
    {
      "cell_type": "code",
      "metadata": {
        "colab": {
          "base_uri": "https://localhost:8080/"
        },
        "id": "am3mrCuf7vWu",
        "outputId": "5e33846a-e5ef-4bcd-d47f-dbd950749e3a"
      },
      "source": [
        "xs = [1,2,3,4,5,6,7]\n",
        "ys = [2,4,6,8,10,12,14]\n",
        "\n",
        "print(\"Target: intercept = 0 and slope = 2\")\n",
        "\n",
        "model = Line()\n",
        "print(\"sgd\")\n",
        "sgd(model, xs, ys)\n",
        "print(model)"
      ],
      "execution_count": null,
      "outputs": [
        {
          "output_type": "stream",
          "name": "stdout",
          "text": [
            "Target: intercept = 0 and slope = 2\n",
            "sgd\n",
            "Iteration 0\n",
            "y = [0.13660467] + [0.58832579]*x\n",
            "Iteration 100\n",
            "y = [0.30004382] + [1.93552771]*x\n",
            "Iteration 200\n",
            "y = [0.20101308] + [1.95386909]*x\n",
            "Iteration 300\n",
            "y = [0.13959851] + [1.9748337]*x\n",
            "Iteration 400\n",
            "y = [0.09394213] + [1.9865797]*x\n",
            "Iteration 500\n",
            "y = [0.06029102] + [1.98603208]*x\n",
            "Iteration 600\n",
            "y = [0.04309987] + [1.98658675]*x\n",
            "Iteration 700\n",
            "y = [0.02967694] + [1.99488329]*x\n",
            "Iteration 800\n",
            "y = [0.01953373] + [1.99720947]*x\n",
            "Iteration 900\n",
            "y = [0.01320189] + [1.99630727]*x\n",
            "y = [0.00881075] + [1.99806322]*x\n"
          ]
        }
      ]
    }
  ]
}