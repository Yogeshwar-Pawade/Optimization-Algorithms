{
  "nbformat": 4,
  "nbformat_minor": 0,
  "metadata": {
    "colab": {
      "name": "Adam Optimizer Algorithm (Deep Learning).ipynb",
      "provenance": []
    },
    "kernelspec": {
      "name": "python3",
      "display_name": "Python 3"
    },
    "language_info": {
      "name": "python"
    }
  },
  "cells": [
    {
      "cell_type": "code",
      "metadata": {
        "id": "qg86J0Qyvfg-"
      },
      "source": [
        "import numpy as np\n",
        "import copy\n",
        "from numpy.random import permutation"
      ],
      "execution_count": null,
      "outputs": []
    },
    {
      "cell_type": "code",
      "metadata": {
        "id": "9wNaveVW4cx3"
      },
      "source": [
        "# Linear Model with two weights w0 and w1."
      ],
      "execution_count": null,
      "outputs": []
    },
    {
      "cell_type": "code",
      "metadata": {
        "id": "Vmic1pvT3luy"
      },
      "source": [
        "class Line():\n",
        "\n",
        "    def __init__(self):\n",
        "        self.weights = [np.random.uniform(0,1,1) for _ in range(2)]\n",
        "        self.derivative_funcs = [self.dx_w0, self.dx_w1]\n",
        "        \n",
        "    def evaluate(self,x):\n",
        "        return self.weights[0] + self.weights[1]*x\n",
        "\n",
        "    def derivate(self, x, y):\n",
        "       \n",
        "        partial_derivatives = []\n",
        "        \n",
        "        yhat = self.evaluate(x)\n",
        "        partial_derivatives.append(self.dx_w0(x, y, yhat))\n",
        "        partial_derivatives.append(self.dx_w1(x, y, yhat))\n",
        "        \n",
        "        return partial_derivatives\n",
        "    \n",
        "    def dx_w0(self, x, y, yhat):\n",
        "      \n",
        "        return 2*(yhat - y)\n",
        "    \n",
        "    def dx_w1(self, x, y, yhat):\n",
        "        \n",
        "        return 2*x*(yhat - y)\n",
        "\n",
        "    def __str__(self):\n",
        "        return f\"y = {self.weights[0]} + {self.weights[1]}*x\""
      ],
      "execution_count": null,
      "outputs": []
    },
    {
      "cell_type": "code",
      "metadata": {
        "id": "5Qn34Px44Zbh"
      },
      "source": [
        "# Helper Functions."
      ],
      "execution_count": null,
      "outputs": []
    },
    {
      "cell_type": "code",
      "metadata": {
        "id": "jknepKEC4ta_"
      },
      "source": [
        "def stochastic_sample(xs, ys):\n",
        "   \n",
        "    perm = permutation(len(xs))\n",
        "    x = xs[perm[0]]\n",
        "    y = ys[perm[0]]\n",
        "\n",
        "    return x, y\n",
        "    \n",
        "    \n",
        "def gradient(dx, evaluate, xs, ys):\n",
        "    \n",
        "    N = len(ys)\n",
        "    \n",
        "    total = 0\n",
        "    for x,y in zip(xs,ys):\n",
        "        yhat = evaluate(x)\n",
        "        total = total + dx(x, y, yhat)\n",
        "    \n",
        "    gradient = total/N\n",
        "    return gradient"
      ],
      "execution_count": null,
      "outputs": []
    },
    {
      "cell_type": "code",
      "metadata": {
        "id": "oWt4ZDXw499u"
      },
      "source": [
        "# Implementing Adam Algo on model"
      ],
      "execution_count": null,
      "outputs": []
    },
    {
      "cell_type": "code",
      "metadata": {
        "id": "mFvbiJ6C41Jr"
      },
      "source": [
        "def adam(model, xs, ys, learning_rate = 0.1, b1 = 0.9, b2 = 0.999, epsilon = 0.00000001, max_iteration = 1000):\n",
        "  \n",
        "    # Variable Initialization\n",
        "    num_param = len(model.weights)\n",
        "    m = [0 for _ in range(num_param)] # two m for each parameter\n",
        "    v = [0 for _ in range(num_param)] # two v for each parameter\n",
        "    g = [0 for _ in range(num_param)] # two gradient\n",
        "    \n",
        "    for t in range(1,max_iteration):\n",
        "        \n",
        "        # Calculate the gradients \n",
        "        x, y = stochastic_sample(xs, ys)\n",
        "        \n",
        "        # Get the partial derivatives\n",
        "        g = model.derivate(x, y)\n",
        "\n",
        "        # Update the m and v parameter\n",
        "        m = [b1*m_i + (1 - b1)*g_i for m_i, g_i in zip(m, g)]\n",
        "        v = [b2*v_i + (1 - b2)*(g_i**2) for v_i, g_i in zip(v, g)]\n",
        "\n",
        "        # Bias correction for m and v\n",
        "        m_cor = [m_i / (1 - (b1**t)) for m_i in m]\n",
        "        v_cor = [v_i / (1 - (b2**t)) for v_i in v]\n",
        "\n",
        "        # Update the parameter\n",
        "        model.weights = [weight - (learning_rate / (np.sqrt(v_cor_i) + epsilon))*m_cor_i for weight, v_cor_i, m_cor_i in zip(model.weights, v_cor, m_cor)]\n",
        "        \n",
        "        if t % 100 == 0:\n",
        "            print(f\"Iteration {t}\")\n",
        "            print(model)"
      ],
      "execution_count": null,
      "outputs": []
    },
    {
      "cell_type": "code",
      "metadata": {
        "colab": {
          "base_uri": "https://localhost:8080/"
        },
        "id": "FZndm8IR5X7t",
        "outputId": "a87d3d47-aac4-46f7-be7a-91c0dc85e2ed"
      },
      "source": [
        "xs = [1,2,3,4,5,6,7]\n",
        "ys = [1,2,3,4,5,6,7]\n",
        "\n",
        "print(\"Target: intercept = 0 and slope = 1\")\n",
        "\n",
        "model = Line()\n",
        "print(\"Adam\")\n",
        "adam(model, xs, ys)\n",
        "print(model)"
      ],
      "execution_count": null,
      "outputs": [
        {
          "output_type": "stream",
          "name": "stdout",
          "text": [
            "Target: intercept = 0 and slope = 1\n",
            "Adam\n",
            "Iteration 100\n",
            "y = [0.0041096] + [1.00208001]*x\n",
            "Iteration 200\n",
            "y = [8.11790039e-06] + [1.00261527]*x\n",
            "Iteration 300\n",
            "y = [-0.0573506] + [1.03071414]*x\n",
            "Iteration 400\n",
            "y = [-0.00676702] + [1.02005114]*x\n",
            "Iteration 500\n",
            "y = [0.00051774] + [0.9998113]*x\n",
            "Iteration 600\n",
            "y = [6.83475107e-05] + [1.00001067]*x\n",
            "Iteration 700\n",
            "y = [-1.73056923e-07] + [0.9999989]*x\n",
            "Iteration 800\n",
            "y = [-3.24006123e-07] + [0.99999988]*x\n",
            "Iteration 900\n",
            "y = [-4.21820929e-07] + [0.99999985]*x\n",
            "y = [-2.40667795e-09] + [0.99999999]*x\n"
          ]
        }
      ]
    },
    {
      "cell_type": "code",
      "metadata": {
        "colab": {
          "base_uri": "https://localhost:8080/"
        },
        "id": "ycrtrgc86FCa",
        "outputId": "194e7275-838d-4785-fd4e-122d95fa053f"
      },
      "source": [
        "xs = [1,2,3,4,5,6,7]\n",
        "ys = [2,4,6,8,10,12,14]\n",
        "\n",
        "print(\"Target: intercept = 0 and slope = 2\")\n",
        "\n",
        "model = Line()\n",
        "print(\"Adam\")\n",
        "adam(model, xs, ys)\n",
        "print(model)"
      ],
      "execution_count": null,
      "outputs": [
        {
          "output_type": "stream",
          "name": "stdout",
          "text": [
            "Target: intercept = 0 and slope = 2\n",
            "Adam\n",
            "Iteration 100\n",
            "y = [0.90654849] + [1.81216752]*x\n",
            "Iteration 200\n",
            "y = [0.15138363] + [1.97278532]*x\n",
            "Iteration 300\n",
            "y = [0.01154927] + [1.99821733]*x\n",
            "Iteration 400\n",
            "y = [0.00080031] + [1.99984661]*x\n",
            "Iteration 500\n",
            "y = [2.33908682e-05] + [1.99999897]*x\n",
            "Iteration 600\n",
            "y = [-1.95724703e-07] + [2.00000003]*x\n",
            "Iteration 700\n",
            "y = [-1.37109921e-09] + [2.]*x\n",
            "Iteration 800\n",
            "y = [-1.83680577e-11] + [2.]*x\n",
            "Iteration 900\n",
            "y = [1.17270192e-13] + [2.]*x\n",
            "y = [-6.17103812e-15] + [2.]*x\n"
          ]
        }
      ]
    },
    {
      "cell_type": "code",
      "metadata": {
        "colab": {
          "base_uri": "https://localhost:8080/"
        },
        "id": "WKtaXOq76Mwk",
        "outputId": "d0908354-f17f-4a34-952d-b5e1fa0e7ea4"
      },
      "source": [
        "xs = [1,2,3,4,5,6,7]\n",
        "ys = [3,5,7,9,11,13,15]\n",
        "\n",
        "print(\"Target: intercept = 1 and slope = 2\")\n",
        "\n",
        "model = Line()\n",
        "print(\"Adam\")\n",
        "adam(model, xs, ys)\n",
        "print(model)"
      ],
      "execution_count": null,
      "outputs": [
        {
          "output_type": "stream",
          "name": "stdout",
          "text": [
            "Target: intercept = 1 and slope = 2\n",
            "Adam\n",
            "Iteration 100\n",
            "y = [1.1671971] + [1.96891826]*x\n",
            "Iteration 200\n",
            "y = [1.01853834] + [1.99469573]*x\n",
            "Iteration 300\n",
            "y = [1.00200444] + [1.99948629]*x\n",
            "Iteration 400\n",
            "y = [1.00008894] + [1.99997287]*x\n",
            "Iteration 500\n",
            "y = [0.99999993] + [2.]*x\n",
            "Iteration 600\n",
            "y = [1.] + [2.]*x\n",
            "Iteration 700\n",
            "y = [1.] + [2.]*x\n",
            "Iteration 800\n",
            "y = [1.] + [2.]*x\n",
            "Iteration 900\n",
            "y = [1.] + [2.]*x\n",
            "y = [1.] + [2.]*x\n"
          ]
        }
      ]
    }
  ]
}