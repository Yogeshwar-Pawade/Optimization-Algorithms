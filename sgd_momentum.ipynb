{
  "nbformat": 4,
  "nbformat_minor": 0,
  "metadata": {
    "colab": {
      "name": "sgd_momentum.ipynb",
      "provenance": []
    },
    "kernelspec": {
      "name": "python3",
      "display_name": "Python 3"
    },
    "language_info": {
      "name": "python"
    }
  },
  "cells": [
    {
      "cell_type": "code",
      "metadata": {
        "id": "xv1ATImo2Riq"
      },
      "source": [
        "import numpy as np\n",
        "import copy\n",
        "from numpy.random import permutation"
      ],
      "execution_count": null,
      "outputs": []
    },
    {
      "cell_type": "code",
      "metadata": {
        "id": "VFHX1fSA2cnN"
      },
      "source": [
        "class Line():\n",
        "\n",
        "    def __init__(self):\n",
        "        self.weights = [np.random.uniform(0,1,1) for _ in range(2)]\n",
        "        self.derivative_funcs = [self.dx_w0, self.dx_w1]\n",
        "        \n",
        "    def evaluate(self,x):\n",
        "        return self.weights[0] + self.weights[1]*x\n",
        "\n",
        "    def derivate(self, x, y):\n",
        "      \n",
        "        partial_derivatives = []\n",
        "        \n",
        "        yhat = self.evaluate(x)\n",
        "        partial_derivatives.append(self.dx_w0(x, y, yhat))\n",
        "        partial_derivatives.append(self.dx_w1(x, y, yhat))\n",
        "        \n",
        "        return partial_derivatives\n",
        "    \n",
        "    def dx_w0(self, x, y, yhat):\n",
        "        return 2*(yhat - y)\n",
        "    \n",
        "    def dx_w1(self, x, y, yhat):\n",
        "        return 2*x*(yhat - y)\n",
        "\n",
        "    def __str__(self):\n",
        "        return f\"y = {self.weights[0]} + {self.weights[1]}*x\""
      ],
      "execution_count": null,
      "outputs": []
    },
    {
      "cell_type": "code",
      "metadata": {
        "id": "kOPYm2mf2g5u"
      },
      "source": [
        "def stochastic_sample(xs, ys):\n",
        "  \n",
        "    perm = permutation(len(xs))\n",
        "    x = xs[perm[0]]\n",
        "    y = ys[perm[0]]\n",
        "\n",
        "    return x, y\n",
        "    \n",
        "    \n",
        "def gradient(dx, evaluate, xs, ys):\n",
        "\n",
        "    N = len(ys)\n",
        "    \n",
        "    total = 0\n",
        "    for x,y in zip(xs,ys):\n",
        "        yhat = evaluate(x)\n",
        "        total = total + dx(x, y, yhat)\n",
        "    \n",
        "    gradient = total/N\n",
        "    return gradient"
      ],
      "execution_count": null,
      "outputs": []
    },
    {
      "cell_type": "code",
      "metadata": {
        "id": "ZN8ikWKp2mZl"
      },
      "source": [
        "def sgd_momentum(model, xs, ys, learning_rate = 0.01, decay_factor = 0.9, max_num_iteration = 1000):\n",
        "  \n",
        "    # Create the gradient that we keep track as an array of 0 of the same size as the number of weights\n",
        "    gradients = [0 for _ in range(len(model.weights))]\n",
        "    \n",
        "    for i in range(max_num_iteration):\n",
        "        \n",
        "        # Select a random x and y\n",
        "        x, y = stochastic_sample(xs, ys)\n",
        "\n",
        "        # Calculate the new gradients\n",
        "        gradients = [decay_factor*g + learning_rate*derivative for g, derivative in zip(gradients, model.derivate(x,y))]\n",
        "        \n",
        "        # Updating the model parameters\n",
        "        model.weights = [weight - g for weight, g in zip(model.weights, gradients)]\n",
        "    \n",
        "        if i % 100 == 0:\n",
        "            print(f\"Iteration {i}\")\n",
        "            print(model)"
      ],
      "execution_count": null,
      "outputs": []
    },
    {
      "cell_type": "code",
      "metadata": {
        "colab": {
          "base_uri": "https://localhost:8080/"
        },
        "id": "Ma5iOgCu2osw",
        "outputId": "b41a5326-7c4c-4cb3-bbfa-9941935e0c1c"
      },
      "source": [
        "xs = [1,2,3,4,5,6,7]\n",
        "ys = [1,2,3,4,5,6,7]\n",
        "\n",
        "print(\"Target: intercept = 0 and slope = 1\")\n",
        "\n",
        "model = Line()\n",
        "print(\" sgd_momentum\")\n",
        "sgd_momentum(model, xs, ys)\n",
        "print(model)"
      ],
      "execution_count": null,
      "outputs": [
        {
          "output_type": "stream",
          "name": "stdout",
          "text": [
            "Target: intercept = 0 and slope = 1\n",
            " sgd_momentum\n",
            "Iteration 0\n",
            "y = [0.76442567] + [0.81040786]*x\n",
            "Iteration 100\n",
            "y = [-0.7592649] + [0.84644854]*x\n",
            "Iteration 200\n",
            "y = [-2.34175097] + [1.61258795]*x\n",
            "Iteration 300\n",
            "y = [-1.64791719] + [1.39223719]*x\n",
            "Iteration 400\n",
            "y = [0.03153981] + [0.92525699]*x\n",
            "Iteration 500\n",
            "y = [0.01163847] + [0.98330111]*x\n",
            "Iteration 600\n",
            "y = [0.05047958] + [0.89460084]*x\n",
            "Iteration 700\n",
            "y = [3.19161257] + [-3.88084244]*x\n",
            "Iteration 800\n",
            "y = [0.99423475] + [-7.57707279]*x\n",
            "Iteration 900\n",
            "y = [2.93039911] + [2.9723963]*x\n",
            "y = [5.06614131] + [-1.55502549]*x\n"
          ]
        }
      ]
    },
    {
      "cell_type": "code",
      "metadata": {
        "colab": {
          "base_uri": "https://localhost:8080/"
        },
        "id": "Wrdsn5oP2yj0",
        "outputId": "91a25098-8ee5-43da-92b4-3be99dcc17bf"
      },
      "source": [
        "xs = [1,2,3,4,5,6,7]\n",
        "ys = [2,4,6,8,10,12,14]\n",
        "\n",
        "print(\"Target: intercept = 0 and slope = 2\")\n",
        "\n",
        "model = Line()\n",
        "print(\" sgd_momentum\")\n",
        "sgd_momentum(model, xs, ys)\n",
        "print(model)"
      ],
      "execution_count": null,
      "outputs": [
        {
          "output_type": "stream",
          "name": "stdout",
          "text": [
            "Target: intercept = 0 and slope = 2\n",
            " sgd_momentum\n",
            "Iteration 0\n",
            "y = [0.8951406] + [1.24258902]*x\n",
            "Iteration 100\n",
            "y = [-0.53613108] + [2.10022313]*x\n",
            "Iteration 200\n",
            "y = [0.56654185] + [2.11538445]*x\n",
            "Iteration 300\n",
            "y = [-2.78051484] + [2.48998035]*x\n",
            "Iteration 400\n",
            "y = [-55.3986529] + [-12.1816246]*x\n",
            "Iteration 500\n",
            "y = [4.24098844] + [82.69977833]*x\n",
            "Iteration 600\n",
            "y = [-16.01819349] + [50.49165283]*x\n",
            "Iteration 700\n",
            "y = [63.8644152] + [24.76382256]*x\n",
            "Iteration 800\n",
            "y = [-15.81084665] + [7.28958134]*x\n",
            "Iteration 900\n",
            "y = [0.5444483] + [1.05248877]*x\n",
            "y = [-0.278063] + [2.05720317]*x\n"
          ]
        }
      ]
    }
  ]
}